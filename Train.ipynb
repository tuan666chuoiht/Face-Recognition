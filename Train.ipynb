{
 "cells": [
  {
   "cell_type": "code",
   "execution_count": 6,
   "id": "a5d56ff2-82a6-46d4-9dca-2ec904b34733",
   "metadata": {},
   "outputs": [],
   "source": [
    "import cv2\n",
    "import os\n",
    "import numpy as np"
   ]
  },
  {
   "cell_type": "code",
   "execution_count": 7,
   "id": "e9052e87-7b99-42e6-ad57-803deb90fcf0",
   "metadata": {},
   "outputs": [],
   "source": [
    "recognizer = cv2.face.LBPHFaceRecognizer_create()\n",
    "detector = cv2.CascadeClassifier(\"haarcascade_frontalface_default.xml\")"
   ]
  },
  {
   "cell_type": "code",
   "execution_count": 8,
   "id": "3522b9d5-13f4-49fb-ac9e-121111119385",
   "metadata": {},
   "outputs": [],
   "source": [
    "def getfaceAndid(path):\n",
    "    imagePaths = [os.path.join(path,f) for f in os.listdir(path)]\n",
    "    \n",
    "    faceSamples = []\n",
    "    Ids = []\n",
    "    \n",
    "    for imagePath in imagePaths:\n",
    "        for img in os.listdir(imagePath):\n",
    "            if img == 'avatar':\n",
    "                continue\n",
    "            img = cv2.imread(os.path.join(imagePath,img))\n",
    "            gray_img = cv2.cvtColor(img, cv2.COLOR_BGR2GRAY)\n",
    "            image_np = np.array(gray_img, 'uint8')\n",
    "            Id = imagePath[-6:]\n",
    "            faces=detector.detectMultiScale(image_np)\n",
    "            \n",
    "            for (x,y,w,h) in faces:\n",
    "                faceSamples.append(image_np[y:y+h,x:x+w])\n",
    "                Ids.append(Id)\n",
    "    return faceSamples, Ids"
   ]
  },
  {
   "cell_type": "code",
   "execution_count": 9,
   "id": "4383cc74-4460-4870-9471-c30db8d6e4bc",
   "metadata": {},
   "outputs": [],
   "source": [
    "# Lấy khuôn mặt từ bộ dự liệu\n",
    "path = '.\\src\\PeopleID'\n",
    "face, Ids = getfaceAndid(path)\n",
    "Ids = np.array(Ids, dtype=np.int32)"
   ]
  },
  {
   "cell_type": "code",
   "execution_count": 10,
   "id": "00d7b264-b41a-46b3-a479-01aeaf2157dd",
   "metadata": {},
   "outputs": [],
   "source": [
    "recognizer.train(face, Ids)"
   ]
  },
  {
   "cell_type": "code",
   "execution_count": 11,
   "id": "6c321222-e75d-4354-b629-54dc2890d005",
   "metadata": {},
   "outputs": [],
   "source": [
    "# Lưu model\n",
    "recognizer.save('trainner.yml')"
   ]
  },
  {
   "cell_type": "code",
   "execution_count": null,
   "id": "51dbfc5f-f433-41af-bb36-201c03aa0f6e",
   "metadata": {},
   "outputs": [],
   "source": []
  }
 ],
 "metadata": {
  "kernelspec": {
   "display_name": "Python 3 (ipykernel)",
   "language": "python",
   "name": "python3"
  },
  "language_info": {
   "codemirror_mode": {
    "name": "ipython",
    "version": 3
   },
   "file_extension": ".py",
   "mimetype": "text/x-python",
   "name": "python",
   "nbconvert_exporter": "python",
   "pygments_lexer": "ipython3",
   "version": "3.8.16"
  }
 },
 "nbformat": 4,
 "nbformat_minor": 5
}
